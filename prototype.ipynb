{
 "cells": [
  {
   "cell_type": "markdown",
   "metadata": {},
   "source": [
    "## Load in data"
   ]
  },
  {
   "cell_type": "code",
   "execution_count": 1,
   "metadata": {},
   "outputs": [
    {
     "ename": "ModuleNotFoundError",
     "evalue": "No module named 'pandas'",
     "output_type": "error",
     "traceback": [
      "\u001b[0;31m---------------------------------------------------------------------------\u001b[0m",
      "\u001b[0;31mModuleNotFoundError\u001b[0m                       Traceback (most recent call last)",
      "Cell \u001b[0;32mIn[1], line 1\u001b[0m\n\u001b[0;32m----> 1\u001b[0m \u001b[38;5;28;01mimport\u001b[39;00m \u001b[38;5;21;01mpandas\u001b[39;00m \u001b[38;5;28;01mas\u001b[39;00m \u001b[38;5;21;01mpd\u001b[39;00m\n\u001b[1;32m      3\u001b[0m monday_data \u001b[38;5;241m=\u001b[39m pd\u001b[38;5;241m.\u001b[39mread_csv(\u001b[38;5;124m'\u001b[39m\u001b[38;5;124mdata/Monday-WorkingHours.pcap_ISCX.csv\u001b[39m\u001b[38;5;124m'\u001b[39m)\n\u001b[1;32m      4\u001b[0m tuesday_data \u001b[38;5;241m=\u001b[39m pd\u001b[38;5;241m.\u001b[39mread_csv(\u001b[38;5;124m'\u001b[39m\u001b[38;5;124mdata/Tuesday-WorkingHours.pcap_ISCX.csv\u001b[39m\u001b[38;5;124m'\u001b[39m)\n",
      "\u001b[0;31mModuleNotFoundError\u001b[0m: No module named 'pandas'"
     ]
    }
   ],
   "source": [
    "import pandas as pd\n",
    "\n",
    "monday_data = pd.read_csv('data/Monday-WorkingHours.pcap_ISCX.csv')\n",
    "tuesday_data = pd.read_csv('data/Tuesday-WorkingHours.pcap_ISCX.csv')\n",
    "wednesday_data = pd.read_csv('data/Wednesday-workingHours.pcap_ISCX.csv')\n",
    "thursday_web_attacks_data = pd.read_csv('data/Thursday-WorkingHours-Morning-WebAttacks.pcap_ISCX.csv')\n",
    "thursday_infiltration_data = pd.read_csv('data/Thursday-WorkingHours-Afternoon-Infilteration.pcap_ISCX.csv')\n",
    "friday_morning_data = pd.read_csv('data/Friday-WorkingHours-Morning.pcap_ISCX.csv')\n",
    "friday_port_scan_data = pd.read_csv('data/Friday-WorkingHours-Afternoon-PortScan.pcap_ISCX.csv')\n",
    "friday_ddos_data = pd.read_csv('data/Friday-WorkingHours-Afternoon-DDos.pcap_ISCX.csv')"
   ]
  },
  {
   "cell_type": "code",
   "execution_count": null,
   "metadata": {},
   "outputs": [],
   "source": [
    "full_data = pd.concat([monday_data, tuesday_data, wednesday_data,\n",
    "                       thursday_web_attacks_data, thursday_infiltration_data,\n",
    "                       friday_morning_data, friday_port_scan_data, friday_ddos_data], ignore_index=True)\n",
    "\n",
    "print(full_data.shape)\n",
    "full_data.head()"
   ]
  },
  {
   "cell_type": "code",
   "execution_count": 3,
   "metadata": {},
   "outputs": [],
   "source": [
    "full_data.columns = full_data.columns.str.strip()"
   ]
  },
  {
   "cell_type": "code",
   "execution_count": 4,
   "metadata": {},
   "outputs": [],
   "source": [
    "from sklearn.preprocessing import LabelEncoder\n",
    "from sklearn.preprocessing import StandardScaler\n",
    "import numpy as np\n",
    "\n",
    "full_data.replace([np.inf, -np.inf], None, inplace=True)\n",
    "full_data.dropna(inplace=True)\n",
    "\n",
    "label_encoder = LabelEncoder()\n",
    "\n",
    "full_data['Label'] = label_encoder.fit_transform(full_data['Label'])"
   ]
  },
  {
   "cell_type": "code",
   "execution_count": null,
   "metadata": {},
   "outputs": [],
   "source": [
    "feature_columns = full_data.columns.difference(['Label'])\n",
    "\n",
    "scaler = StandardScaler()\n",
    "\n",
    "full_data[feature_columns] = scaler.fit_transform(full_data[feature_columns])\n",
    "\n",
    "full_data.head()"
   ]
  },
  {
   "cell_type": "code",
   "execution_count": null,
   "metadata": {},
   "outputs": [],
   "source": [
    "from sklearn.model_selection import train_test_split\n",
    "\n",
    "X = full_data[feature_columns]\n",
    "y = full_data['Label']\n",
    "\n",
    "X_train, X_test, y_train, y_test = train_test_split(X, y, test_size=0.2, random_state=42, stratify=y)\n",
    "\n",
    "print(f\"Training set size: {X_train.shape}\")\n",
    "print(f\"Test set size: {X_test.shape}\")"
   ]
  },
  {
   "cell_type": "code",
   "execution_count": 1,
   "metadata": {},
   "outputs": [
    {
     "ename": "ModuleNotFoundError",
     "evalue": "No module named 'qiskit'",
     "output_type": "error",
     "traceback": [
      "\u001b[0;31m---------------------------------------------------------------------------\u001b[0m",
      "\u001b[0;31mModuleNotFoundError\u001b[0m                       Traceback (most recent call last)",
      "Cell \u001b[0;32mIn[1], line 3\u001b[0m\n\u001b[1;32m      1\u001b[0m \u001b[38;5;66;03m# Import necessary libraries\u001b[39;00m\n\u001b[1;32m      2\u001b[0m \u001b[38;5;28;01mimport\u001b[39;00m \u001b[38;5;21;01mnumpy\u001b[39;00m \u001b[38;5;28;01mas\u001b[39;00m \u001b[38;5;21;01mnp\u001b[39;00m\n\u001b[0;32m----> 3\u001b[0m \u001b[38;5;28;01mfrom\u001b[39;00m \u001b[38;5;21;01mqiskit\u001b[39;00m \u001b[38;5;28;01mimport\u001b[39;00m Aer, execute\n\u001b[1;32m      4\u001b[0m \u001b[38;5;28;01mfrom\u001b[39;00m \u001b[38;5;21;01mqiskit\u001b[39;00m\u001b[38;5;21;01m.\u001b[39;00m\u001b[38;5;21;01mcircuit\u001b[39;00m \u001b[38;5;28;01mimport\u001b[39;00m QuantumCircuit, Parameter\n\u001b[1;32m      5\u001b[0m \u001b[38;5;28;01mfrom\u001b[39;00m \u001b[38;5;21;01mqiskit\u001b[39;00m\u001b[38;5;21;01m.\u001b[39;00m\u001b[38;5;21;01malgorithms\u001b[39;00m\u001b[38;5;21;01m.\u001b[39;00m\u001b[38;5;21;01moptimizers\u001b[39;00m \u001b[38;5;28;01mimport\u001b[39;00m COBYLA\n",
      "\u001b[0;31mModuleNotFoundError\u001b[0m: No module named 'qiskit'"
     ]
    }
   ],
   "source": [
    "# Import necessary libraries\n",
    "import numpy as np\n",
    "from qiskit import Aer, execute\n",
    "from qiskit.circuit import QuantumCircuit, Parameter\n",
    "from qiskit.algorithms.optimizers import COBYLA\n",
    "from sklearn.ensemble import RandomForestClassifier\n",
    "from sklearn.metrics import accuracy_score, classification_report, confusion_matrix\n",
    "from qiskit_machine_learning.neural_networks import CircuitQNN\n",
    "from qiskit_machine_learning.connectors import TorchConnector\n",
    "from torch.optim import Adam\n",
    "import torch\n",
    "from sklearn.preprocessing import MinMaxScaler"
   ]
  },
  {
   "cell_type": "code",
   "execution_count": null,
   "metadata": {},
   "outputs": [],
   "source": [
    "# Build the quantum autoencoder circuit\n",
    "def build_qae_circuit(n_input_qubits, n_latent_qubits):\n",
    "    qc = QuantumCircuit(n_input_qubits)\n",
    "    params = [Parameter(f'theta_{i}') for i in range(n_input_qubits)]\n",
    "\n",
    "    # Apply parameterized gates (RX, RY, RZ)\n",
    "    for i in range(n_input_qubits):\n",
    "        qc.rx(params[i], i)\n",
    "        qc.ry(params[i], i)\n",
    "        qc.rz(params[i], i)\n",
    "\n",
    "    # Entanglement layer\n",
    "    for i in range(n_input_qubits - 1):\n",
    "        qc.cx(i, i + 1)\n",
    "\n",
    "    # Return circuit and parameters\n",
    "    return qc, params"
   ]
  },
  {
   "cell_type": "code",
   "execution_count": null,
   "metadata": {},
   "outputs": [],
   "source": [
    "# Define the cost function for quantum autoencoder optimization\n",
    "def cost_function(params, qae_circuit, n_input_qubits, simulator):\n",
    "    # Update circuit with current parameters\n",
    "    qae_circuit = qae_circuit.bind_parameters(params)\n",
    "    \n",
    "    # Simulate the quantum circuit\n",
    "    job = execute(qae_circuit, simulator, shots=1024)\n",
    "    result = job.result()\n",
    "    counts = result.get_counts()\n",
    "    \n",
    "    # Loss function: target state is '00..0'\n",
    "    target_state = '0' * n_input_qubits\n",
    "    loss = 1 - (counts.get(target_state, 0) / 1024)\n",
    "    \n",
    "    return loss"
   ]
  },
  {
   "cell_type": "code",
   "execution_count": null,
   "metadata": {},
   "outputs": [],
   "source": [
    "# Train the Quantum Autoencoder\n",
    "def train_qae(X_train):\n",
    "    n_input_qubits = X_train.shape[1]\n",
    "    n_latent_qubits = n_input_qubits // 2  # Compress to half the qubits\n",
    "\n",
    "    # Build the quantum autoencoder circuit\n",
    "    qae_circuit, params = build_qae_circuit(n_input_qubits, n_latent_qubits)\n",
    "\n",
    "    # Use the Aer simulator\n",
    "    simulator = Aer.get_backend('qasm_simulator')\n",
    "\n",
    "    # COBYLA optimizer\n",
    "    optimizer = COBYLA(maxiter=100)\n",
    "    initial_params = np.random.rand(len(params))\n",
    "\n",
    "    # Optimize the QAE circuit\n",
    "    result = optimizer.optimize(num_vars=len(initial_params),\n",
    "                                objective_function=lambda p: cost_function(p, qae_circuit, n_input_qubits, simulator),\n",
    "                                initial_point=initial_params)\n",
    "\n",
    "    optimal_params = result[0]\n",
    "    print(\"Optimal Parameters:\", optimal_params)\n",
    "\n",
    "    # Return the optimized quantum circuit\n",
    "    return qae_circuit.bind_parameters(optimal_params), optimal_params\n"
   ]
  },
  {
   "cell_type": "code",
   "execution_count": null,
   "metadata": {},
   "outputs": [],
   "source": [
    "# Quantum Neural Network (QNN) for Latent Space Extraction\n",
    "def get_qnn(qae_circuit, n_input_qubits, n_latent_qubits):\n",
    "    # Define the Quantum Neural Network (QNN)\n",
    "    qnn = CircuitQNN(qae_circuit, input_params=qae_circuit.parameters, \n",
    "                     output_params=qae_circuit.parameters[:n_latent_qubits], \n",
    "                     quantum_instance=Aer.get_backend('statevector_simulator'))\n",
    "    return qnn\n"
   ]
  },
  {
   "cell_type": "code",
   "execution_count": null,
   "metadata": {},
   "outputs": [],
   "source": [
    "# Convert the input data into Torch tensors and process using the QNN\n",
    "def apply_qae_and_extract_latent_space(X, qnn):\n",
    "    X_torch = torch.tensor(X, dtype=torch.float32)\n",
    "\n",
    "    # Convert the QNN to a PyTorch connector\n",
    "    qnn_torch = TorchConnector(qnn)\n",
    "\n",
    "    # Forward pass through the QNN to get the latent space representation\n",
    "    latent_space = qnn_torch(X_torch).detach().numpy()\n",
    "\n",
    "    return latent_space\n"
   ]
  },
  {
   "cell_type": "code",
   "execution_count": null,
   "metadata": {},
   "outputs": [],
   "source": [
    "# Prepare the data for quantum encoding and training\n",
    "def preprocess_data(X_train, X_test):\n",
    "    scaler = MinMaxScaler()\n",
    "    X_train_scaled = scaler.fit_transform(X_train)\n",
    "    X_test_scaled = scaler.transform(X_test)\n",
    "    \n",
    "    return X_train_scaled, X_test_scaled"
   ]
  },
  {
   "cell_type": "code",
   "execution_count": null,
   "metadata": {},
   "outputs": [],
   "source": [
    "\n",
    "# Assume X_train and X_test are prepared from previous cells (loaded and split)\n",
    "X_train_scaled, X_test_scaled = preprocess_data(X_train, X_test)\n",
    "\n",
    "# Train the Quantum Autoencoder and extract the compressed representation\n",
    "qae_circuit, optimal_params = train_qae(X_train_scaled)\n",
    "\n",
    "# Define the Quantum Neural Network (QNN) for the autoencoder\n",
    "n_input_qubits = X_train_scaled.shape[1]\n",
    "n_latent_qubits = n_input_qubits // 2\n",
    "qnn = get_qnn(qae_circuit, n_input_qubits, n_latent_qubits)\n",
    "\n",
    "# Extract the latent space representation using the trained QAE\n",
    "X_train_latent = apply_qae_and_extract_latent_space(X_train_scaled, qnn)\n",
    "X_test_latent = apply_qae_and_extract_latent_space(X_test_scaled, qnn)\n",
    "\n",
    "# Random Forest Classifier\n",
    "rf_classifier = RandomForestClassifier(n_estimators=100, random_state=42)\n",
    "\n",
    "# Train on the compressed dataset from QAE\n",
    "rf_classifier.fit(X_train_latent, y_train)\n",
    "\n",
    "# Predictions on the test set\n",
    "y_pred = rf_classifier.predict(X_test_latent)\n",
    "\n",
    "# Model Evaluation\n",
    "accuracy = accuracy_score(y_test, y_pred)\n",
    "print(f\"Accuracy: {accuracy * 100:.2f}%\")\n",
    "\n",
    "# Classification report\n",
    "print(\"\\nClassification Report:\\n\", classification_report(y_test, y_pred))\n",
    "\n",
    "# Confusion matrix\n",
    "conf_matrix = confusion_matrix(y_test, y_pred)\n",
    "print(\"\\nConfusion Matrix:\\n\", conf_matrix)"
   ]
  }
 ],
 "metadata": {
  "kernelspec": {
   "display_name": "Python 3",
   "language": "python",
   "name": "python3"
  },
  "language_info": {
   "codemirror_mode": {
    "name": "ipython",
    "version": 3
   },
   "file_extension": ".py",
   "mimetype": "text/x-python",
   "name": "python",
   "nbconvert_exporter": "python",
   "pygments_lexer": "ipython3",
   "version": "3.12.6"
  }
 },
 "nbformat": 4,
 "nbformat_minor": 2
}
